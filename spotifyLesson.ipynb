{
 "cells": [
  {
   "cell_type": "markdown",
   "metadata": {},
   "source": [
    "# Objectives\n",
    "YWBAT\n",
    "* use the spotify API to make calls \n",
    "* build a spotify api class in Python\n",
    "* use a decorator to refresh an api token \n",
    "\n",
    "# Outline\n",
    "* read in spotify credentials\n",
    "* make a request for an access token\n",
    "* build that out into functions\n",
    "* write spotify api class\n",
    "* write method to get an access token \n",
    "* write decorator for freshing token"
   ]
  },
  {
   "cell_type": "code",
   "execution_count": 2,
   "metadata": {},
   "outputs": [],
   "source": [
    "import os\n",
    "import requests\n",
    "import base64\n",
    "import datetime\n",
    "from functools import wraps"
   ]
  },
  {
   "cell_type": "code",
   "execution_count": 5,
   "metadata": {},
   "outputs": [],
   "source": [
    "with open(\"\") as f:\n",
    "    d = json.load(f)\n",
    "    client_id = d['client_id']\n",
    "    client_secret = d['client_secret']"
   ]
  },
  {
   "cell_type": "code",
   "execution_count": 12,
   "metadata": {},
   "outputs": [],
   "source": [
    "token_url = \"https://accounts.spotify.com/api/token\"\n",
    "method=\"POST\"\n",
    "data = {\"grant_type\": \"client_credentials\"}\n",
    "client_credentials = f\"{client_id}:{client_secret}\"\n",
    "client_credentials_b64 = base64.b64encode(client_credentials.encode())\n",
    "headers = {\"Authorization\": f\"Basic {client_credentials_b64.decode()}\"}\n",
    "r = requests.request(method=method, url=token_url, data=data, headers=headers)\n",
    "r.raise_for_status()"
   ]
  },
  {
   "cell_type": "code",
   "execution_count": null,
   "metadata": {},
   "outputs": [],
   "source": []
  }
 ],
 "metadata": {
  "kernelspec": {
   "display_name": "flatiron-env",
   "language": "python",
   "name": "flatiron-env"
  },
  "language_info": {
   "codemirror_mode": {
    "name": "ipython",
    "version": 3
   },
   "file_extension": ".py",
   "mimetype": "text/x-python",
   "name": "python",
   "nbconvert_exporter": "python",
   "pygments_lexer": "ipython3",
   "version": "3.7.3"
  }
 },
 "nbformat": 4,
 "nbformat_minor": 2
}
