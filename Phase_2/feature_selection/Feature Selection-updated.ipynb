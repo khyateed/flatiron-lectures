{
 "cells": [
  {
   "cell_type": "markdown",
   "metadata": {
    "slideshow": {
     "slide_type": "slide"
    }
   },
   "source": [
    "# Feature Selection\n",
    "\n",
    "Feature selection is the process of selecting a subset of relevant features for use in model construction\n"
   ]
  },
  {
   "cell_type": "markdown",
   "metadata": {
    "slideshow": {
     "slide_type": "subslide"
    }
   },
   "source": [
    "## Top reasons to use feature selection are:\n",
    "* It enables the machine learning algorithm to train faster.\n",
    "* It reduces the complexity of a model and makes it easier to interpret.\n",
    "* It improves the accuracy of a model if the right subset is chosen.\n",
    "* It reduces overfitting."
   ]
  },
  {
   "cell_type": "markdown",
   "metadata": {},
   "source": [
    "***Import the packages we will use for this notebook***"
   ]
  },
  {
   "cell_type": "code",
   "execution_count": 1,
   "metadata": {},
   "outputs": [],
   "source": [
    "import pandas as pd\n",
    "pd.set_option('display.max_columns', 300)\n",
    "pd.set_option('display.max_rows', 200)\n",
    "\n",
    "import numpy as np\n",
    "from matplotlib import pyplot as plt\n",
    "from sklearn import linear_model\n",
    "from sklearn.linear_model import LinearRegression\n",
    "from sklearn.model_selection import train_test_split\n",
    "from sklearn import metrics\n",
    "from sklearn.preprocessing import PolynomialFeatures\n",
    "from sklearn.preprocessing import StandardScaler\n",
    "import seaborn as sns\n",
    "sns.set(style=\"whitegrid\")\n",
    "\n"
   ]
  },
  {
   "cell_type": "markdown",
   "metadata": {},
   "source": [
    "***Set up or initial dataframe by removing variable and transforming others.***"
   ]
  },
  {
   "cell_type": "code",
   "execution_count": 2,
   "metadata": {},
   "outputs": [],
   "source": [
    "df  = pd.read_csv('https://raw.githubusercontent.com/learn-co-students/nyc-mhtn-ds-051120-lectures/master/Mod_2/model_evaluation/resources/movie_dataset_us.csv', index_col=0)"
   ]
  },
  {
   "cell_type": "code",
   "execution_count": 3,
   "metadata": {},
   "outputs": [],
   "source": [
    "df.dropna(subset=['duration'],inplace=True)\n",
    "\n",
    "features=['budget', 'duration','actor_1_facebook_likes','cast_total_facebook_likes', 'PG', 'PG-13', 'R',\n",
    "       'yr_old']\n",
    "\n",
    "df_features = df[features]\n",
    "\n",
    "target = df['gross']"
   ]
  },
  {
   "cell_type": "code",
   "execution_count": 4,
   "metadata": {
    "scrolled": false
   },
   "outputs": [
    {
     "data": {
      "text/plain": [
       "budget                       0.0\n",
       "duration                     0.0\n",
       "actor_1_facebook_likes       0.0\n",
       "cast_total_facebook_likes    0.0\n",
       "PG                           0.0\n",
       "PG-13                        0.0\n",
       "R                            0.0\n",
       "yr_old                       0.0\n",
       "dtype: float64"
      ]
     },
     "execution_count": 4,
     "metadata": {},
     "output_type": "execute_result"
    }
   ],
   "source": [
    "df_features.isnull().mean()"
   ]
  },
  {
   "cell_type": "code",
   "execution_count": 5,
   "metadata": {},
   "outputs": [],
   "source": [
    "X_train, X_test, y_train, y_test = train_test_split(df_features, target, random_state=9,test_size=0.2)\n"
   ]
  },
  {
   "cell_type": "markdown",
   "metadata": {},
   "source": [
    "Now that I have my training and testing datasets, I am going to apply my feature scaler to the dataset.  \n",
    "\n",
    "**Why am I scaling my data after the train-test split and not before?**\n",
    "\n"
   ]
  },
  {
   "cell_type": "code",
   "execution_count": 6,
   "metadata": {},
   "outputs": [],
   "source": [
    "scaler = StandardScaler()\n",
    "\n",
    "# fit the scaler to the training data\n",
    "scaler.fit(X_train)\n",
    "\n",
    "#transform the training data\n",
    "X_train = pd.DataFrame(data=scaler.transform(X_train), columns=df_features.columns)\n",
    "\n",
    "#transform the testing dat\n",
    "X_test = pd.DataFrame(data=scaler.transform(X_test), columns=df_features.columns)"
   ]
  },
  {
   "cell_type": "code",
   "execution_count": 7,
   "metadata": {},
   "outputs": [
    {
     "name": "stdout",
     "output_type": "stream",
     "text": [
      "Training Root Mean Squared Error: 49604920.29178063\n"
     ]
    }
   ],
   "source": [
    "#instantiate a linear regression object\n",
    "lm = LinearRegression()\n",
    "\n",
    "#fit the linear regression to the data\n",
    "lm = lm.fit(X_train, y_train)\n",
    "\n",
    "y_train_pred = lm.predict(X_train)\n",
    "\n",
    "train_rmse = np.sqrt(metrics.mean_squared_error(y_train, y_train_pred))\n",
    "\n",
    "\n",
    "print('Training Root Mean Squared Error:' , train_rmse)"
   ]
  },
  {
   "cell_type": "markdown",
   "metadata": {},
   "source": [
    "### Evaluate on the test set"
   ]
  },
  {
   "cell_type": "code",
   "execution_count": 8,
   "metadata": {},
   "outputs": [
    {
     "name": "stdout",
     "output_type": "stream",
     "text": [
      "Testing Root Mean Squared Error: 50831827.81847141\n",
      "Training:  49604920 vs. Testing:  50831827\n"
     ]
    }
   ],
   "source": [
    "#use fitted model to predict on the test examples\n",
    "y_test_pred = lm.predict(X_test)\n",
    "\n",
    "#evaluate the predictions on the test examples\n",
    "test_rmse = np.sqrt(metrics.mean_squared_error(y_test, y_test_pred))\n",
    "\n",
    "print('Testing Root Mean Squared Error:' , test_rmse)\n",
    "\n",
    "\n",
    "print('Training: ', int(train_rmse), \"vs. Testing: \", int(test_rmse))"
   ]
  },
  {
   "cell_type": "markdown",
   "metadata": {},
   "source": [
    "***Plot the residuals after fitting a linear model***"
   ]
  },
  {
   "cell_type": "code",
   "execution_count": 9,
   "metadata": {
    "scrolled": false
   },
   "outputs": [
    {
     "data": {
      "text/plain": [
       "<matplotlib.axes._subplots.AxesSubplot at 0x1a23f19780>"
      ]
     },
     "execution_count": 9,
     "metadata": {},
     "output_type": "execute_result"
    },
    {
     "data": {
      "image/png": "[encoded data removed]",
      "text/plain": [
       "<Figure size 432x288 with 1 Axes>"
      ]
     },
     "metadata": {
      "needs_background": "light"
     },
     "output_type": "display_data"
    }
   ],
   "source": [
    "\n",
    "sns.residplot( y_test, y_test_pred,lowess=True, color=\"g\")"
   ]
  },
  {
   "cell_type": "markdown",
   "metadata": {},
   "source": [
    "**Will our model perform better if we try to predict the log of the gross instead?**\n"
   ]
  },
  {
   "cell_type": "code",
   "execution_count": 10,
   "metadata": {},
   "outputs": [],
   "source": [
    "#take the natural log of the target variable\n",
    "y_log = np.log(y_train)"
   ]
  },
  {
   "cell_type": "code",
   "execution_count": 11,
   "metadata": {},
   "outputs": [],
   "source": [
    "#instantiate a linear regression object\n",
    "lm_log = LinearRegression()\n",
    "\n",
    "#fit the linear regression to the data\n",
    "lm_log = lm_log.fit(X_train, y_log)\n",
    "\n",
    "log_train_pred = lm_log.predict(X_train)"
   ]
  },
  {
   "cell_type": "code",
   "execution_count": 12,
   "metadata": {},
   "outputs": [],
   "source": [
    "#log_train_pred the predictions to get them on the same original scale \n",
    "y_train_pred = np.exp(log_train_pred)"
   ]
  },
  {
   "cell_type": "code",
   "execution_count": 13,
   "metadata": {},
   "outputs": [
    {
     "name": "stdout",
     "output_type": "stream",
     "text": [
      "Training Root Mean Squared Error: 92042007.08219329\n"
     ]
    }
   ],
   "source": [
    "train_rmse = np.sqrt(metrics.mean_squared_error(y_train, log_train_pred))\n",
    "\n",
    "\n",
    "print('Training Root Mean Squared Error:' , train_rmse)"
   ]
  },
  {
   "cell_type": "code",
   "execution_count": 14,
   "metadata": {},
   "outputs": [
    {
     "name": "stdout",
     "output_type": "stream",
     "text": [
      "Testing Root Mean Squared Error: 69964298.76404315\n"
     ]
    }
   ],
   "source": [
    "log_test_pred = lm_log.predict(X_test)\n",
    "#exponentiate the predictions to get them on the same original scale \n",
    "log_test_pred = np.exp(log_test_pred)\n",
    "log_test_rmse = np.sqrt(metrics.mean_squared_error(y_test, log_test_pred))\n",
    "\n",
    "\n",
    "print('Testing Root Mean Squared Error:' , log_test_rmse)"
   ]
  },
  {
   "cell_type": "markdown",
   "metadata": {},
   "source": [
    "## Use the new model to predict the test set."
   ]
  },
  {
   "cell_type": "code",
   "execution_count": 15,
   "metadata": {},
   "outputs": [
    {
     "name": "stdout",
     "output_type": "stream",
     "text": [
      "Testing Root Mean Squared Error: 69964298.76404315\n",
      "Training:  92042007 vs. Testing:  69964298\n"
     ]
    }
   ],
   "source": [
    "y_test_pred = lm_log.predict(X_test)\n",
    "\n",
    "\n",
    "#our model predcicte the log of gross, so now we must exponentiate to get the value in $\n",
    "y_test_pred = np.exp(y_test_pred)\n",
    "\n",
    "test_rmse = np.sqrt(metrics.mean_squared_error(y_test, y_test_pred))\n",
    "\n",
    "print('Testing Root Mean Squared Error:' , test_rmse)\n",
    "\n",
    "\n",
    "print('Training: ', int(train_rmse), \"vs. Testing: \", int(test_rmse))"
   ]
  },
  {
   "cell_type": "markdown",
   "metadata": {},
   "source": [
    "## Generate Polynomial and Interaction features"
   ]
  },
  {
   "cell_type": "code",
   "execution_count": 16,
   "metadata": {},
   "outputs": [
    {
     "data": {
      "text/html": [
       "<div>\n",
       "<style scoped>\n",
       "    .dataframe tbody tr th:only-of-type {\n",
       "        vertical-align: middle;\n",
       "    }\n",
       "\n",
       "    .dataframe tbody tr th {\n",
       "        vertical-align: top;\n",
       "    }\n",
       "\n",
       "    .dataframe thead th {\n",
       "        text-align: right;\n",
       "    }\n",
       "</style>\n",
       "<table border=\"1\" class=\"dataframe\">\n",
       "  <thead>\n",
       "    <tr style=\"text-align: right;\">\n",
       "      <th></th>\n",
       "      <th>budget</th>\n",
       "      <th>duration</th>\n",
       "      <th>actor_1_facebook_likes</th>\n",
       "      <th>cast_total_facebook_likes</th>\n",
       "      <th>PG</th>\n",
       "      <th>PG-13</th>\n",
       "      <th>R</th>\n",
       "      <th>yr_old</th>\n",
       "      <th>budget^2</th>\n",
       "      <th>budget duration</th>\n",
       "      <th>budget actor_1_facebook_likes</th>\n",
       "      <th>budget cast_total_facebook_likes</th>\n",
       "      <th>budget PG</th>\n",
       "      <th>budget PG-13</th>\n",
       "      <th>budget R</th>\n",
       "      <th>budget yr_old</th>\n",
       "      <th>duration^2</th>\n",
       "      <th>duration actor_1_facebook_likes</th>\n",
       "      <th>duration cast_total_facebook_likes</th>\n",
       "      <th>duration PG</th>\n",
       "      <th>duration PG-13</th>\n",
       "      <th>duration R</th>\n",
       "      <th>duration yr_old</th>\n",
       "      <th>actor_1_facebook_likes^2</th>\n",
       "      <th>actor_1_facebook_likes cast_total_facebook_likes</th>\n",
       "      <th>actor_1_facebook_likes PG</th>\n",
       "      <th>actor_1_facebook_likes PG-13</th>\n",
       "      <th>actor_1_facebook_likes R</th>\n",
       "      <th>actor_1_facebook_likes yr_old</th>\n",
       "      <th>cast_total_facebook_likes^2</th>\n",
       "      <th>cast_total_facebook_likes PG</th>\n",
       "      <th>cast_total_facebook_likes PG-13</th>\n",
       "      <th>cast_total_facebook_likes R</th>\n",
       "      <th>cast_total_facebook_likes yr_old</th>\n",
       "      <th>PG^2</th>\n",
       "      <th>PG PG-13</th>\n",
       "      <th>PG R</th>\n",
       "      <th>PG yr_old</th>\n",
       "      <th>PG-13^2</th>\n",
       "      <th>PG-13 R</th>\n",
       "      <th>PG-13 yr_old</th>\n",
       "      <th>R^2</th>\n",
       "      <th>R yr_old</th>\n",
       "      <th>yr_old^2</th>\n",
       "    </tr>\n",
       "  </thead>\n",
       "  <tbody>\n",
       "    <tr>\n",
       "      <th>0</th>\n",
       "      <td>250000000.0</td>\n",
       "      <td>164.0</td>\n",
       "      <td>27000.0</td>\n",
       "      <td>106759.0</td>\n",
       "      <td>0.0</td>\n",
       "      <td>1.0</td>\n",
       "      <td>0.0</td>\n",
       "      <td>4.0</td>\n",
       "      <td>6.250000e+16</td>\n",
       "      <td>4.100000e+10</td>\n",
       "      <td>6.750000e+12</td>\n",
       "      <td>2.668975e+13</td>\n",
       "      <td>0.0</td>\n",
       "      <td>250000000.0</td>\n",
       "      <td>0.0</td>\n",
       "      <td>1.000000e+09</td>\n",
       "      <td>26896.0</td>\n",
       "      <td>4428000.0</td>\n",
       "      <td>17508476.0</td>\n",
       "      <td>0.0</td>\n",
       "      <td>164.0</td>\n",
       "      <td>0.0</td>\n",
       "      <td>656.0</td>\n",
       "      <td>729000000.0</td>\n",
       "      <td>2.882493e+09</td>\n",
       "      <td>0.0</td>\n",
       "      <td>27000.0</td>\n",
       "      <td>0.0</td>\n",
       "      <td>108000.0</td>\n",
       "      <td>1.139748e+10</td>\n",
       "      <td>0.0</td>\n",
       "      <td>106759.0</td>\n",
       "      <td>0.0</td>\n",
       "      <td>427036.0</td>\n",
       "      <td>0.0</td>\n",
       "      <td>0.0</td>\n",
       "      <td>0.0</td>\n",
       "      <td>0.0</td>\n",
       "      <td>1.0</td>\n",
       "      <td>0.0</td>\n",
       "      <td>4.0</td>\n",
       "      <td>0.0</td>\n",
       "      <td>0.0</td>\n",
       "      <td>16.0</td>\n",
       "    </tr>\n",
       "    <tr>\n",
       "      <th>1</th>\n",
       "      <td>263700000.0</td>\n",
       "      <td>132.0</td>\n",
       "      <td>640.0</td>\n",
       "      <td>1873.0</td>\n",
       "      <td>0.0</td>\n",
       "      <td>1.0</td>\n",
       "      <td>0.0</td>\n",
       "      <td>4.0</td>\n",
       "      <td>6.953769e+16</td>\n",
       "      <td>3.480840e+10</td>\n",
       "      <td>1.687680e+11</td>\n",
       "      <td>4.939101e+11</td>\n",
       "      <td>0.0</td>\n",
       "      <td>263700000.0</td>\n",
       "      <td>0.0</td>\n",
       "      <td>1.054800e+09</td>\n",
       "      <td>17424.0</td>\n",
       "      <td>84480.0</td>\n",
       "      <td>247236.0</td>\n",
       "      <td>0.0</td>\n",
       "      <td>132.0</td>\n",
       "      <td>0.0</td>\n",
       "      <td>528.0</td>\n",
       "      <td>409600.0</td>\n",
       "      <td>1.198720e+06</td>\n",
       "      <td>0.0</td>\n",
       "      <td>640.0</td>\n",
       "      <td>0.0</td>\n",
       "      <td>2560.0</td>\n",
       "      <td>3.508129e+06</td>\n",
       "      <td>0.0</td>\n",
       "      <td>1873.0</td>\n",
       "      <td>0.0</td>\n",
       "      <td>7492.0</td>\n",
       "      <td>0.0</td>\n",
       "      <td>0.0</td>\n",
       "      <td>0.0</td>\n",
       "      <td>0.0</td>\n",
       "      <td>1.0</td>\n",
       "      <td>0.0</td>\n",
       "      <td>4.0</td>\n",
       "      <td>0.0</td>\n",
       "      <td>0.0</td>\n",
       "      <td>16.0</td>\n",
       "    </tr>\n",
       "    <tr>\n",
       "      <th>2</th>\n",
       "      <td>258000000.0</td>\n",
       "      <td>156.0</td>\n",
       "      <td>24000.0</td>\n",
       "      <td>46055.0</td>\n",
       "      <td>0.0</td>\n",
       "      <td>1.0</td>\n",
       "      <td>0.0</td>\n",
       "      <td>9.0</td>\n",
       "      <td>6.656400e+16</td>\n",
       "      <td>4.024800e+10</td>\n",
       "      <td>6.192000e+12</td>\n",
       "      <td>1.188219e+13</td>\n",
       "      <td>0.0</td>\n",
       "      <td>258000000.0</td>\n",
       "      <td>0.0</td>\n",
       "      <td>2.322000e+09</td>\n",
       "      <td>24336.0</td>\n",
       "      <td>3744000.0</td>\n",
       "      <td>7184580.0</td>\n",
       "      <td>0.0</td>\n",
       "      <td>156.0</td>\n",
       "      <td>0.0</td>\n",
       "      <td>1404.0</td>\n",
       "      <td>576000000.0</td>\n",
       "      <td>1.105320e+09</td>\n",
       "      <td>0.0</td>\n",
       "      <td>24000.0</td>\n",
       "      <td>0.0</td>\n",
       "      <td>216000.0</td>\n",
       "      <td>2.121063e+09</td>\n",
       "      <td>0.0</td>\n",
       "      <td>46055.0</td>\n",
       "      <td>0.0</td>\n",
       "      <td>414495.0</td>\n",
       "      <td>0.0</td>\n",
       "      <td>0.0</td>\n",
       "      <td>0.0</td>\n",
       "      <td>0.0</td>\n",
       "      <td>1.0</td>\n",
       "      <td>0.0</td>\n",
       "      <td>9.0</td>\n",
       "      <td>0.0</td>\n",
       "      <td>0.0</td>\n",
       "      <td>81.0</td>\n",
       "    </tr>\n",
       "    <tr>\n",
       "      <th>3</th>\n",
       "      <td>260000000.0</td>\n",
       "      <td>100.0</td>\n",
       "      <td>799.0</td>\n",
       "      <td>2036.0</td>\n",
       "      <td>1.0</td>\n",
       "      <td>0.0</td>\n",
       "      <td>0.0</td>\n",
       "      <td>6.0</td>\n",
       "      <td>6.760000e+16</td>\n",
       "      <td>2.600000e+10</td>\n",
       "      <td>2.077400e+11</td>\n",
       "      <td>5.293600e+11</td>\n",
       "      <td>260000000.0</td>\n",
       "      <td>0.0</td>\n",
       "      <td>0.0</td>\n",
       "      <td>1.560000e+09</td>\n",
       "      <td>10000.0</td>\n",
       "      <td>79900.0</td>\n",
       "      <td>203600.0</td>\n",
       "      <td>100.0</td>\n",
       "      <td>0.0</td>\n",
       "      <td>0.0</td>\n",
       "      <td>600.0</td>\n",
       "      <td>638401.0</td>\n",
       "      <td>1.626764e+06</td>\n",
       "      <td>799.0</td>\n",
       "      <td>0.0</td>\n",
       "      <td>0.0</td>\n",
       "      <td>4794.0</td>\n",
       "      <td>4.145296e+06</td>\n",
       "      <td>2036.0</td>\n",
       "      <td>0.0</td>\n",
       "      <td>0.0</td>\n",
       "      <td>12216.0</td>\n",
       "      <td>1.0</td>\n",
       "      <td>0.0</td>\n",
       "      <td>0.0</td>\n",
       "      <td>6.0</td>\n",
       "      <td>0.0</td>\n",
       "      <td>0.0</td>\n",
       "      <td>0.0</td>\n",
       "      <td>0.0</td>\n",
       "      <td>0.0</td>\n",
       "      <td>36.0</td>\n",
       "    </tr>\n",
       "    <tr>\n",
       "      <th>4</th>\n",
       "      <td>250000000.0</td>\n",
       "      <td>141.0</td>\n",
       "      <td>26000.0</td>\n",
       "      <td>92000.0</td>\n",
       "      <td>0.0</td>\n",
       "      <td>1.0</td>\n",
       "      <td>0.0</td>\n",
       "      <td>1.0</td>\n",
       "      <td>6.250000e+16</td>\n",
       "      <td>3.525000e+10</td>\n",
       "      <td>6.500000e+12</td>\n",
       "      <td>2.300000e+13</td>\n",
       "      <td>0.0</td>\n",
       "      <td>250000000.0</td>\n",
       "      <td>0.0</td>\n",
       "      <td>2.500000e+08</td>\n",
       "      <td>19881.0</td>\n",
       "      <td>3666000.0</td>\n",
       "      <td>12972000.0</td>\n",
       "      <td>0.0</td>\n",
       "      <td>141.0</td>\n",
       "      <td>0.0</td>\n",
       "      <td>141.0</td>\n",
       "      <td>676000000.0</td>\n",
       "      <td>2.392000e+09</td>\n",
       "      <td>0.0</td>\n",
       "      <td>26000.0</td>\n",
       "      <td>0.0</td>\n",
       "      <td>26000.0</td>\n",
       "      <td>8.464000e+09</td>\n",
       "      <td>0.0</td>\n",
       "      <td>92000.0</td>\n",
       "      <td>0.0</td>\n",
       "      <td>92000.0</td>\n",
       "      <td>0.0</td>\n",
       "      <td>0.0</td>\n",
       "      <td>0.0</td>\n",
       "      <td>0.0</td>\n",
       "      <td>1.0</td>\n",
       "      <td>0.0</td>\n",
       "      <td>1.0</td>\n",
       "      <td>0.0</td>\n",
       "      <td>0.0</td>\n",
       "      <td>1.0</td>\n",
       "    </tr>\n",
       "  </tbody>\n",
       "</table>\n",
       "</div>"
      ],
      "text/plain": [
       "        budget  duration  actor_1_facebook_likes  cast_total_facebook_likes  \\\n",
       "0  250000000.0     164.0                 27000.0                   106759.0   \n",
       "1  263700000.0     132.0                   640.0                     1873.0   \n",
       "2  258000000.0     156.0                 24000.0                    46055.0   \n",
       "3  260000000.0     100.0                   799.0                     2036.0   \n",
       "4  250000000.0     141.0                 26000.0                    92000.0   \n",
       "\n",
       "    PG  PG-13    R  yr_old      budget^2  budget duration  \\\n",
       "0  0.0    1.0  0.0     4.0  6.250000e+16     4.100000e+10   \n",
       "1  0.0    1.0  0.0     4.0  6.953769e+16     3.480840e+10   \n",
       "2  0.0    1.0  0.0     9.0  6.656400e+16     4.024800e+10   \n",
       "3  1.0    0.0  0.0     6.0  6.760000e+16     2.600000e+10   \n",
       "4  0.0    1.0  0.0     1.0  6.250000e+16     3.525000e+10   \n",
       "\n",
       "   budget actor_1_facebook_likes  budget cast_total_facebook_likes  \\\n",
       "0                   6.750000e+12                      2.668975e+13   \n",
       "1                   1.687680e+11                      4.939101e+11   \n",
       "2                   6.192000e+12                      1.188219e+13   \n",
       "3                   2.077400e+11                      5.293600e+11   \n",
       "4                   6.500000e+12                      2.300000e+13   \n",
       "\n",
       "     budget PG  budget PG-13  budget R  budget yr_old  duration^2  \\\n",
       "0          0.0   250000000.0       0.0   1.000000e+09     26896.0   \n",
       "1          0.0   263700000.0       0.0   1.054800e+09     17424.0   \n",
       "2          0.0   258000000.0       0.0   2.322000e+09     24336.0   \n",
       "3  260000000.0           0.0       0.0   1.560000e+09     10000.0   \n",
       "4          0.0   250000000.0       0.0   2.500000e+08     19881.0   \n",
       "\n",
       "   duration actor_1_facebook_likes  duration cast_total_facebook_likes  \\\n",
       "0                        4428000.0                          17508476.0   \n",
       "1                          84480.0                            247236.0   \n",
       "2                        3744000.0                           7184580.0   \n",
       "3                          79900.0                            203600.0   \n",
       "4                        3666000.0                          12972000.0   \n",
       "\n",
       "   duration PG  duration PG-13  duration R  duration yr_old  \\\n",
       "0          0.0           164.0         0.0            656.0   \n",
       "1          0.0           132.0         0.0            528.0   \n",
       "2          0.0           156.0         0.0           1404.0   \n",
       "3        100.0             0.0         0.0            600.0   \n",
       "4          0.0           141.0         0.0            141.0   \n",
       "\n",
       "   actor_1_facebook_likes^2  actor_1_facebook_likes cast_total_facebook_likes  \\\n",
       "0               729000000.0                                      2.882493e+09   \n",
       "1                  409600.0                                      1.198720e+06   \n",
       "2               576000000.0                                      1.105320e+09   \n",
       "3                  638401.0                                      1.626764e+06   \n",
       "4               676000000.0                                      2.392000e+09   \n",
       "\n",
       "   actor_1_facebook_likes PG  actor_1_facebook_likes PG-13  \\\n",
       "0                        0.0                       27000.0   \n",
       "1                        0.0                         640.0   \n",
       "2                        0.0                       24000.0   \n",
       "3                      799.0                           0.0   \n",
       "4                        0.0                       26000.0   \n",
       "\n",
       "   actor_1_facebook_likes R  actor_1_facebook_likes yr_old  \\\n",
       "0                       0.0                       108000.0   \n",
       "1                       0.0                         2560.0   \n",
       "2                       0.0                       216000.0   \n",
       "3                       0.0                         4794.0   \n",
       "4                       0.0                        26000.0   \n",
       "\n",
       "   cast_total_facebook_likes^2  cast_total_facebook_likes PG  \\\n",
       "0                 1.139748e+10                           0.0   \n",
       "1                 3.508129e+06                           0.0   \n",
       "2                 2.121063e+09                           0.0   \n",
       "3                 4.145296e+06                        2036.0   \n",
       "4                 8.464000e+09                           0.0   \n",
       "\n",
       "   cast_total_facebook_likes PG-13  cast_total_facebook_likes R  \\\n",
       "0                         106759.0                          0.0   \n",
       "1                           1873.0                          0.0   \n",
       "2                          46055.0                          0.0   \n",
       "3                              0.0                          0.0   \n",
       "4                          92000.0                          0.0   \n",
       "\n",
       "   cast_total_facebook_likes yr_old  PG^2  PG PG-13  PG R  PG yr_old  PG-13^2  \\\n",
       "0                          427036.0   0.0       0.0   0.0        0.0      1.0   \n",
       "1                            7492.0   0.0       0.0   0.0        0.0      1.0   \n",
       "2                          414495.0   0.0       0.0   0.0        0.0      1.0   \n",
       "3                           12216.0   1.0       0.0   0.0        6.0      0.0   \n",
       "4                           92000.0   0.0       0.0   0.0        0.0      1.0   \n",
       "\n",
       "   PG-13 R  PG-13 yr_old  R^2  R yr_old  yr_old^2  \n",
       "0      0.0           4.0  0.0       0.0      16.0  \n",
       "1      0.0           4.0  0.0       0.0      16.0  \n",
       "2      0.0           9.0  0.0       0.0      81.0  \n",
       "3      0.0           0.0  0.0       0.0      36.0  \n",
       "4      0.0           1.0  0.0       0.0       1.0  "
      ]
     },
     "execution_count": 16,
     "metadata": {},
     "output_type": "execute_result"
    }
   ],
   "source": [
    "poly_2 = PolynomialFeatures(degree=2, include_bias=False)\n",
    "poly2_data = poly_2.fit_transform(df_features)\n",
    "poly2_columns = poly_2.get_feature_names(df_features.columns)\n",
    "df_poly2 = pd.DataFrame(poly2_data, columns=poly2_columns)\n",
    "df_poly2.head()"
   ]
  },
  {
   "cell_type": "code",
   "execution_count": 17,
   "metadata": {},
   "outputs": [],
   "source": [
    "X_train, X_test, y_train, y_test = train_test_split(df_poly2, target, random_state=9,test_size=0.2)\n"
   ]
  },
  {
   "cell_type": "code",
   "execution_count": 18,
   "metadata": {},
   "outputs": [],
   "source": [
    "scaler2 = StandardScaler()\n",
    "# fit the scaler to the training data\n",
    "scaler2.fit(X_train)\n",
    "\n",
    "#transform the training data\n",
    "X_train = pd.DataFrame(data=scaler2.transform(X_train), columns=df_poly2.columns)\n",
    "\n",
    "#transform the testing dat\n",
    "X_test = pd.DataFrame(data=scaler2.transform(X_test), columns=df_poly2.columns)"
   ]
  },
  {
   "cell_type": "code",
   "execution_count": 19,
   "metadata": {},
   "outputs": [
    {
     "data": {
      "text/html": [
       "<div>\n",
       "<style scoped>\n",
       "    .dataframe tbody tr th:only-of-type {\n",
       "        vertical-align: middle;\n",
       "    }\n",
       "\n",
       "    .dataframe tbody tr th {\n",
       "        vertical-align: top;\n",
       "    }\n",
       "\n",
       "    .dataframe thead th {\n",
       "        text-align: right;\n",
       "    }\n",
       "</style>\n",
       "<table border=\"1\" class=\"dataframe\">\n",
       "  <thead>\n",
       "    <tr style=\"text-align: right;\">\n",
       "      <th></th>\n",
       "      <th>budget</th>\n",
       "      <th>duration</th>\n",
       "      <th>actor_1_facebook_likes</th>\n",
       "      <th>cast_total_facebook_likes</th>\n",
       "      <th>PG</th>\n",
       "      <th>PG-13</th>\n",
       "      <th>R</th>\n",
       "      <th>yr_old</th>\n",
       "      <th>budget^2</th>\n",
       "      <th>budget duration</th>\n",
       "      <th>budget actor_1_facebook_likes</th>\n",
       "      <th>budget cast_total_facebook_likes</th>\n",
       "      <th>budget PG</th>\n",
       "      <th>budget PG-13</th>\n",
       "      <th>budget R</th>\n",
       "      <th>budget yr_old</th>\n",
       "      <th>duration^2</th>\n",
       "      <th>duration actor_1_facebook_likes</th>\n",
       "      <th>duration cast_total_facebook_likes</th>\n",
       "      <th>duration PG</th>\n",
       "      <th>duration PG-13</th>\n",
       "      <th>duration R</th>\n",
       "      <th>duration yr_old</th>\n",
       "      <th>actor_1_facebook_likes^2</th>\n",
       "      <th>actor_1_facebook_likes cast_total_facebook_likes</th>\n",
       "      <th>actor_1_facebook_likes PG</th>\n",
       "      <th>actor_1_facebook_likes PG-13</th>\n",
       "      <th>actor_1_facebook_likes R</th>\n",
       "      <th>actor_1_facebook_likes yr_old</th>\n",
       "      <th>cast_total_facebook_likes^2</th>\n",
       "      <th>cast_total_facebook_likes PG</th>\n",
       "      <th>cast_total_facebook_likes PG-13</th>\n",
       "      <th>cast_total_facebook_likes R</th>\n",
       "      <th>cast_total_facebook_likes yr_old</th>\n",
       "      <th>PG^2</th>\n",
       "      <th>PG PG-13</th>\n",
       "      <th>PG R</th>\n",
       "      <th>PG yr_old</th>\n",
       "      <th>PG-13^2</th>\n",
       "      <th>PG-13 R</th>\n",
       "      <th>PG-13 yr_old</th>\n",
       "      <th>R^2</th>\n",
       "      <th>R yr_old</th>\n",
       "      <th>yr_old^2</th>\n",
       "    </tr>\n",
       "  </thead>\n",
       "  <tbody>\n",
       "    <tr>\n",
       "      <th>0</th>\n",
       "      <td>-0.765721</td>\n",
       "      <td>0.627458</td>\n",
       "      <td>-0.396733</td>\n",
       "      <td>-0.368000</td>\n",
       "      <td>-0.423966</td>\n",
       "      <td>-0.858595</td>\n",
       "      <td>1.237986</td>\n",
       "      <td>1.575338</td>\n",
       "      <td>-0.490788</td>\n",
       "      <td>-0.659157</td>\n",
       "      <td>-0.440929</td>\n",
       "      <td>-0.397210</td>\n",
       "      <td>-0.325596</td>\n",
       "      <td>-0.556985</td>\n",
       "      <td>0.055800</td>\n",
       "      <td>-0.428666</td>\n",
       "      <td>0.492914</td>\n",
       "      <td>-0.378308</td>\n",
       "      <td>-0.335345</td>\n",
       "      <td>-0.419155</td>\n",
       "      <td>-0.835383</td>\n",
       "      <td>1.400818</td>\n",
       "      <td>1.805365</td>\n",
       "      <td>-0.215396</td>\n",
       "      <td>-0.197527</td>\n",
       "      <td>-0.225286</td>\n",
       "      <td>-0.434452</td>\n",
       "      <td>0.051350</td>\n",
       "      <td>-0.050318</td>\n",
       "      <td>-0.177061</td>\n",
       "      <td>-0.243982</td>\n",
       "      <td>-0.458596</td>\n",
       "      <td>0.128690</td>\n",
       "      <td>0.047690</td>\n",
       "      <td>-0.423966</td>\n",
       "      <td>0.0</td>\n",
       "      <td>0.0</td>\n",
       "      <td>-0.363084</td>\n",
       "      <td>-0.858595</td>\n",
       "      <td>0.0</td>\n",
       "      <td>-0.690655</td>\n",
       "      <td>1.237986</td>\n",
       "      <td>2.336807</td>\n",
       "      <td>1.915592</td>\n",
       "    </tr>\n",
       "    <tr>\n",
       "      <th>1</th>\n",
       "      <td>-0.983483</td>\n",
       "      <td>0.065356</td>\n",
       "      <td>-0.648722</td>\n",
       "      <td>-0.638553</td>\n",
       "      <td>-0.423966</td>\n",
       "      <td>-0.858595</td>\n",
       "      <td>1.237986</td>\n",
       "      <td>-1.041634</td>\n",
       "      <td>-0.509224</td>\n",
       "      <td>-0.865369</td>\n",
       "      <td>-0.486389</td>\n",
       "      <td>-0.441261</td>\n",
       "      <td>-0.325596</td>\n",
       "      <td>-0.556985</td>\n",
       "      <td>-0.396922</td>\n",
       "      <td>-0.928659</td>\n",
       "      <td>-0.020872</td>\n",
       "      <td>-0.663132</td>\n",
       "      <td>-0.634239</td>\n",
       "      <td>-0.419155</td>\n",
       "      <td>-0.835383</td>\n",
       "      <td>1.201910</td>\n",
       "      <td>-0.949356</td>\n",
       "      <td>-0.231404</td>\n",
       "      <td>-0.215581</td>\n",
       "      <td>-0.225286</td>\n",
       "      <td>-0.434452</td>\n",
       "      <td>-0.284848</td>\n",
       "      <td>-0.589377</td>\n",
       "      <td>-0.194814</td>\n",
       "      <td>-0.243982</td>\n",
       "      <td>-0.458596</td>\n",
       "      <td>-0.224387</td>\n",
       "      <td>-0.636836</td>\n",
       "      <td>-0.423966</td>\n",
       "      <td>0.0</td>\n",
       "      <td>0.0</td>\n",
       "      <td>-0.363084</td>\n",
       "      <td>-0.858595</td>\n",
       "      <td>0.0</td>\n",
       "      <td>-0.690655</td>\n",
       "      <td>1.237986</td>\n",
       "      <td>0.010341</td>\n",
       "      <td>-0.980133</td>\n",
       "    </tr>\n",
       "    <tr>\n",
       "      <th>2</th>\n",
       "      <td>-0.591510</td>\n",
       "      <td>0.065356</td>\n",
       "      <td>0.359233</td>\n",
       "      <td>0.077941</td>\n",
       "      <td>-0.423966</td>\n",
       "      <td>-0.858595</td>\n",
       "      <td>1.237986</td>\n",
       "      <td>1.014558</td>\n",
       "      <td>-0.459448</td>\n",
       "      <td>-0.536889</td>\n",
       "      <td>-0.235893</td>\n",
       "      <td>-0.282216</td>\n",
       "      <td>-0.325596</td>\n",
       "      <td>-0.556985</td>\n",
       "      <td>0.417978</td>\n",
       "      <td>-0.246236</td>\n",
       "      <td>-0.020872</td>\n",
       "      <td>0.342128</td>\n",
       "      <td>0.055303</td>\n",
       "      <td>-0.419155</td>\n",
       "      <td>-0.835383</td>\n",
       "      <td>1.201910</td>\n",
       "      <td>0.968488</td>\n",
       "      <td>-0.052113</td>\n",
       "      <td>-0.082187</td>\n",
       "      <td>-0.225286</td>\n",
       "      <td>-0.434452</td>\n",
       "      <td>1.059943</td>\n",
       "      <td>0.924745</td>\n",
       "      <td>-0.108239</td>\n",
       "      <td>-0.243982</td>\n",
       "      <td>-0.458596</td>\n",
       "      <td>0.710652</td>\n",
       "      <td>0.609638</td>\n",
       "      <td>-0.423966</td>\n",
       "      <td>0.0</td>\n",
       "      <td>0.0</td>\n",
       "      <td>-0.363084</td>\n",
       "      <td>-0.858595</td>\n",
       "      <td>0.0</td>\n",
       "      <td>-0.690655</td>\n",
       "      <td>1.237986</td>\n",
       "      <td>1.838278</td>\n",
       "      <td>0.984823</td>\n",
       "    </tr>\n",
       "    <tr>\n",
       "      <th>3</th>\n",
       "      <td>-0.286643</td>\n",
       "      <td>0.678558</td>\n",
       "      <td>-0.564725</td>\n",
       "      <td>-0.411384</td>\n",
       "      <td>-0.423966</td>\n",
       "      <td>-0.858595</td>\n",
       "      <td>1.237986</td>\n",
       "      <td>-0.293928</td>\n",
       "      <td>-0.369113</td>\n",
       "      <td>-0.211728</td>\n",
       "      <td>-0.424229</td>\n",
       "      <td>-0.330530</td>\n",
       "      <td>-0.325596</td>\n",
       "      <td>-0.556985</td>\n",
       "      <td>1.051789</td>\n",
       "      <td>-0.325064</td>\n",
       "      <td>0.542048</td>\n",
       "      <td>-0.561083</td>\n",
       "      <td>-0.378149</td>\n",
       "      <td>-0.419155</td>\n",
       "      <td>-0.835383</td>\n",
       "      <td>1.418901</td>\n",
       "      <td>-0.099799</td>\n",
       "      <td>-0.228203</td>\n",
       "      <td>-0.208415</td>\n",
       "      <td>-0.225286</td>\n",
       "      <td>-0.434452</td>\n",
       "      <td>-0.172782</td>\n",
       "      <td>-0.494249</td>\n",
       "      <td>-0.181128</td>\n",
       "      <td>-0.243982</td>\n",
       "      <td>-0.458596</td>\n",
       "      <td>0.072074</td>\n",
       "      <td>-0.397646</td>\n",
       "      <td>-0.423966</td>\n",
       "      <td>0.0</td>\n",
       "      <td>0.0</td>\n",
       "      <td>-0.363084</td>\n",
       "      <td>-0.858595</td>\n",
       "      <td>0.0</td>\n",
       "      <td>-0.690655</td>\n",
       "      <td>1.237986</td>\n",
       "      <td>0.675046</td>\n",
       "      <td>-0.528851</td>\n",
       "    </tr>\n",
       "    <tr>\n",
       "      <th>4</th>\n",
       "      <td>-0.243090</td>\n",
       "      <td>-0.650048</td>\n",
       "      <td>1.283192</td>\n",
       "      <td>1.322336</td>\n",
       "      <td>-0.423966</td>\n",
       "      <td>-0.858595</td>\n",
       "      <td>1.237986</td>\n",
       "      <td>-0.293928</td>\n",
       "      <td>-0.352521</td>\n",
       "      <td>-0.330843</td>\n",
       "      <td>0.334683</td>\n",
       "      <td>0.262992</td>\n",
       "      <td>-0.325596</td>\n",
       "      <td>-0.556985</td>\n",
       "      <td>1.142333</td>\n",
       "      <td>-0.289028</td>\n",
       "      <td>-0.604011</td>\n",
       "      <td>1.007733</td>\n",
       "      <td>0.996822</td>\n",
       "      <td>-0.419155</td>\n",
       "      <td>-0.835383</td>\n",
       "      <td>0.948754</td>\n",
       "      <td>-0.429477</td>\n",
       "      <td>0.382243</td>\n",
       "      <td>0.398509</td>\n",
       "      <td>-0.225286</td>\n",
       "      <td>-0.434452</td>\n",
       "      <td>2.292667</td>\n",
       "      <td>0.900963</td>\n",
       "      <td>0.344256</td>\n",
       "      <td>-0.243982</td>\n",
       "      <td>-0.458596</td>\n",
       "      <td>2.334613</td>\n",
       "      <td>1.022457</td>\n",
       "      <td>-0.423966</td>\n",
       "      <td>0.0</td>\n",
       "      <td>0.0</td>\n",
       "      <td>-0.363084</td>\n",
       "      <td>-0.858595</td>\n",
       "      <td>0.0</td>\n",
       "      <td>-0.690655</td>\n",
       "      <td>1.237986</td>\n",
       "      <td>0.675046</td>\n",
       "      <td>-0.528851</td>\n",
       "    </tr>\n",
       "  </tbody>\n",
       "</table>\n",
       "</div>"
      ],
      "text/plain": [
       "     budget  duration  actor_1_facebook_likes  cast_total_facebook_likes  \\\n",
       "0 -0.765721  0.627458               -0.396733                  -0.368000   \n",
       "1 -0.983483  0.065356               -0.648722                  -0.638553   \n",
       "2 -0.591510  0.065356                0.359233                   0.077941   \n",
       "3 -0.286643  0.678558               -0.564725                  -0.411384   \n",
       "4 -0.243090 -0.650048                1.283192                   1.322336   \n",
       "\n",
       "         PG     PG-13         R    yr_old  budget^2  budget duration  \\\n",
       "0 -0.423966 -0.858595  1.237986  1.575338 -0.490788        -0.659157   \n",
       "1 -0.423966 -0.858595  1.237986 -1.041634 -0.509224        -0.865369   \n",
       "2 -0.423966 -0.858595  1.237986  1.014558 -0.459448        -0.536889   \n",
       "3 -0.423966 -0.858595  1.237986 -0.293928 -0.369113        -0.211728   \n",
       "4 -0.423966 -0.858595  1.237986 -0.293928 -0.352521        -0.330843   \n",
       "\n",
       "   budget actor_1_facebook_likes  budget cast_total_facebook_likes  budget PG  \\\n",
       "0                      -0.440929                         -0.397210  -0.325596   \n",
       "1                      -0.486389                         -0.441261  -0.325596   \n",
       "2                      -0.235893                         -0.282216  -0.325596   \n",
       "3                      -0.424229                         -0.330530  -0.325596   \n",
       "4                       0.334683                          0.262992  -0.325596   \n",
       "\n",
       "   budget PG-13  budget R  budget yr_old  duration^2  \\\n",
       "0     -0.556985  0.055800      -0.428666    0.492914   \n",
       "1     -0.556985 -0.396922      -0.928659   -0.020872   \n",
       "2     -0.556985  0.417978      -0.246236   -0.020872   \n",
       "3     -0.556985  1.051789      -0.325064    0.542048   \n",
       "4     -0.556985  1.142333      -0.289028   -0.604011   \n",
       "\n",
       "   duration actor_1_facebook_likes  duration cast_total_facebook_likes  \\\n",
       "0                        -0.378308                           -0.335345   \n",
       "1                        -0.663132                           -0.634239   \n",
       "2                         0.342128                            0.055303   \n",
       "3                        -0.561083                           -0.378149   \n",
       "4                         1.007733                            0.996822   \n",
       "\n",
       "   duration PG  duration PG-13  duration R  duration yr_old  \\\n",
       "0    -0.419155       -0.835383    1.400818         1.805365   \n",
       "1    -0.419155       -0.835383    1.201910        -0.949356   \n",
       "2    -0.419155       -0.835383    1.201910         0.968488   \n",
       "3    -0.419155       -0.835383    1.418901        -0.099799   \n",
       "4    -0.419155       -0.835383    0.948754        -0.429477   \n",
       "\n",
       "   actor_1_facebook_likes^2  actor_1_facebook_likes cast_total_facebook_likes  \\\n",
       "0                 -0.215396                                         -0.197527   \n",
       "1                 -0.231404                                         -0.215581   \n",
       "2                 -0.052113                                         -0.082187   \n",
       "3                 -0.228203                                         -0.208415   \n",
       "4                  0.382243                                          0.398509   \n",
       "\n",
       "   actor_1_facebook_likes PG  actor_1_facebook_likes PG-13  \\\n",
       "0                  -0.225286                     -0.434452   \n",
       "1                  -0.225286                     -0.434452   \n",
       "2                  -0.225286                     -0.434452   \n",
       "3                  -0.225286                     -0.434452   \n",
       "4                  -0.225286                     -0.434452   \n",
       "\n",
       "   actor_1_facebook_likes R  actor_1_facebook_likes yr_old  \\\n",
       "0                  0.051350                      -0.050318   \n",
       "1                 -0.284848                      -0.589377   \n",
       "2                  1.059943                       0.924745   \n",
       "3                 -0.172782                      -0.494249   \n",
       "4                  2.292667                       0.900963   \n",
       "\n",
       "   cast_total_facebook_likes^2  cast_total_facebook_likes PG  \\\n",
       "0                    -0.177061                     -0.243982   \n",
       "1                    -0.194814                     -0.243982   \n",
       "2                    -0.108239                     -0.243982   \n",
       "3                    -0.181128                     -0.243982   \n",
       "4                     0.344256                     -0.243982   \n",
       "\n",
       "   cast_total_facebook_likes PG-13  cast_total_facebook_likes R  \\\n",
       "0                        -0.458596                     0.128690   \n",
       "1                        -0.458596                    -0.224387   \n",
       "2                        -0.458596                     0.710652   \n",
       "3                        -0.458596                     0.072074   \n",
       "4                        -0.458596                     2.334613   \n",
       "\n",
       "   cast_total_facebook_likes yr_old      PG^2  PG PG-13  PG R  PG yr_old  \\\n",
       "0                          0.047690 -0.423966       0.0   0.0  -0.363084   \n",
       "1                         -0.636836 -0.423966       0.0   0.0  -0.363084   \n",
       "2                          0.609638 -0.423966       0.0   0.0  -0.363084   \n",
       "3                         -0.397646 -0.423966       0.0   0.0  -0.363084   \n",
       "4                          1.022457 -0.423966       0.0   0.0  -0.363084   \n",
       "\n",
       "    PG-13^2  PG-13 R  PG-13 yr_old       R^2  R yr_old  yr_old^2  \n",
       "0 -0.858595      0.0     -0.690655  1.237986  2.336807  1.915592  \n",
       "1 -0.858595      0.0     -0.690655  1.237986  0.010341 -0.980133  \n",
       "2 -0.858595      0.0     -0.690655  1.237986  1.838278  0.984823  \n",
       "3 -0.858595      0.0     -0.690655  1.237986  0.675046 -0.528851  \n",
       "4 -0.858595      0.0     -0.690655  1.237986  0.675046 -0.528851  "
      ]
     },
     "execution_count": 19,
     "metadata": {},
     "output_type": "execute_result"
    }
   ],
   "source": [
    "X_test.head()"
   ]
  },
  {
   "cell_type": "code",
   "execution_count": 20,
   "metadata": {},
   "outputs": [
    {
     "name": "stdout",
     "output_type": "stream",
     "text": [
      "Training Root Mean Squared Error: 47660232.68885998\n"
     ]
    }
   ],
   "source": [
    "# instantiate a linear regression object\n",
    "lm_2 = LinearRegression()\n",
    "\n",
    "#fit the linear regression to the data\n",
    "lm_2 = lm_2.fit(X_train, y_train)\n",
    "\n",
    "y_train_pred = lm_2.predict(X_train)\n",
    "\n",
    "train_rmse = np.sqrt(metrics.mean_squared_error(y_train, y_train_pred))\n",
    "\n",
    "\n",
    "print('Training Root Mean Squared Error:' , train_rmse)"
   ]
  },
  {
   "cell_type": "code",
   "execution_count": 21,
   "metadata": {},
   "outputs": [
    {
     "name": "stdout",
     "output_type": "stream",
     "text": [
      "Testing Root Mean Squared Error: 50610925.93572462\n",
      "Training:  47660232 vs. Testing:  50610925\n"
     ]
    }
   ],
   "source": [
    "# use fitted model to predict on test data\n",
    "y_pred = lm_2.predict(X_test)\n",
    "\n",
    "test_rmse = np.sqrt(metrics.mean_squared_error(y_test, y_pred))\n",
    "\n",
    "print('Testing Root Mean Squared Error:' , test_rmse)\n",
    "\n",
    "\n",
    "print('Training: ', int(train_rmse), \"vs. Testing: \", int(test_rmse))"
   ]
  },
  {
   "cell_type": "markdown",
   "metadata": {},
   "source": [
    "**Given the difference in RMSE between our test and training sets, what can we say about this model?**"
   ]
  },
  {
   "cell_type": "code",
   "execution_count": 22,
   "metadata": {},
   "outputs": [],
   "source": [
    "poly_3 = PolynomialFeatures(degree=3, include_bias=False)\n",
    "poly3_data = poly_3.fit_transform(df_features)\n",
    "poly3_columns = poly_3.get_feature_names(df_features.columns)\n",
    "df_poly3 = pd.DataFrame(poly3_data, columns=poly3_columns)"
   ]
  },
  {
   "cell_type": "code",
   "execution_count": 23,
   "metadata": {},
   "outputs": [],
   "source": [
    "X_train, X_test, y_train, y_test = train_test_split(df_poly3, target, random_state=9,test_size=0.2)\n",
    "scaler3 = StandardScaler()\n",
    "# fit the scaler to the training data\n",
    "scaler3.fit(X_train)\n",
    "\n",
    "#transform the training data\n",
    "X_train = pd.DataFrame(data=scaler3.transform(X_train), columns=df_poly3.columns)\n",
    "\n",
    "#transform the testing dat\n",
    "X_test = pd.DataFrame(data=scaler3.transform(X_test), columns=df_poly3.columns)"
   ]
  },
  {
   "cell_type": "code",
   "execution_count": 24,
   "metadata": {},
   "outputs": [],
   "source": [
    "# instantiate a linear regression object\n",
    "lm_3 = LinearRegression()\n",
    "\n",
    "#fit the linear regression to the data\n",
    "lm_3 = lm_3.fit(X_train, y_train)\n",
    "\n",
    "y_train_pred = lm_3.predict(X_train)\n",
    "\n",
    "train_rmse = np.sqrt(metrics.mean_squared_error(y_train, y_train_pred))"
   ]
  },
  {
   "cell_type": "code",
   "execution_count": 25,
   "metadata": {},
   "outputs": [
    {
     "name": "stdout",
     "output_type": "stream",
     "text": [
      "Testing Root Mean Squared Error: 51725604.06065128\n",
      "Training:  45432889 vs. Testing:  51725604\n"
     ]
    }
   ],
   "source": [
    "# use fitted model to predict on test data\n",
    "y_pred = lm_3.predict(X_test)\n",
    "\n",
    "test_rmse = np.sqrt(metrics.mean_squared_error(y_test, y_pred))\n",
    "\n",
    "print('Testing Root Mean Squared Error:' , test_rmse)\n",
    "\n",
    "\n",
    "print('Training: ', int(train_rmse), \"vs. Testing: \", int(test_rmse))"
   ]
  },
  {
   "cell_type": "markdown",
   "metadata": {},
   "source": [
    "**Given the difference in RMSE between our test and training sets, what can we say about this model?**"
   ]
  },
  {
   "cell_type": "markdown",
   "metadata": {},
   "source": [
    "# Feature Selection"
   ]
  },
  {
   "cell_type": "markdown",
   "metadata": {
    "slideshow": {
     "slide_type": "subslide"
    }
   },
   "source": [
    "## Types of Feature Selection\n",
    "\n",
    "* Filter Methods\n",
    "* Wrapper Methods\n",
    "* Embedded Methods"
   ]
  },
  {
   "cell_type": "markdown",
   "metadata": {
    "slideshow": {
     "slide_type": "slide"
    }
   },
   "source": [
    "# Filter Methods\n",
    "Filter feature selection methods apply a statistical measure to assign a scoring to each feature. The features are ranked by the score and either selected to be kept or removed from the dataset. The methods are often univariate and consider the feature independently, or with regard to the dependent variable."
   ]
  },
  {
   "cell_type": "markdown",
   "metadata": {},
   "source": [
    "![alt text](./resources/Filter_1.png)"
   ]
  },
  {
   "cell_type": "markdown",
   "metadata": {},
   "source": [
    "https://towardsdatascience.com/why-how-and-when-to-apply-feature-selection-e9c69adfabf2\n",
    "\n",
    "https://scikit-learn.org/stable/modules/feature_selection.html"
   ]
  },
  {
   "cell_type": "markdown",
   "metadata": {
    "slideshow": {
     "slide_type": "fragment"
    }
   },
   "source": [
    "**Examples:** \n",
    "* F-Test\n",
    "* Chi squared test \n",
    "* Information gain \n",
    "* Correlation coefficient scores"
   ]
  },
  {
   "cell_type": "markdown",
   "metadata": {},
   "source": [
    "![alt text](./resources/FS1.webp)"
   ]
  },
  {
   "cell_type": "markdown",
   "metadata": {},
   "source": [
    "### Removing Variables based on correlation coefficient\n",
    "\n",
    "When using this process to find features to remove, I think it is easier/better to do before creating our polynomials or interactions. So I'm going to look at the original 8 features, and search for high correlation in those. "
   ]
  },
  {
   "cell_type": "code",
   "execution_count": 26,
   "metadata": {},
   "outputs": [],
   "source": [
    "X_train_8, X_test_8, y_train_8, y_test_8 = train_test_split(df_features, target, random_state=9,test_size=0.2)\n"
   ]
  },
  {
   "cell_type": "code",
   "execution_count": 27,
   "metadata": {},
   "outputs": [
    {
     "data": {
      "text/html": [
       "<div>\n",
       "<style scoped>\n",
       "    .dataframe tbody tr th:only-of-type {\n",
       "        vertical-align: middle;\n",
       "    }\n",
       "\n",
       "    .dataframe tbody tr th {\n",
       "        vertical-align: top;\n",
       "    }\n",
       "\n",
       "    .dataframe thead th {\n",
       "        text-align: right;\n",
       "    }\n",
       "</style>\n",
       "<table border=\"1\" class=\"dataframe\">\n",
       "  <thead>\n",
       "    <tr style=\"text-align: right;\">\n",
       "      <th></th>\n",
       "      <th>budget</th>\n",
       "      <th>duration</th>\n",
       "      <th>actor_1_facebook_likes</th>\n",
       "      <th>cast_total_facebook_likes</th>\n",
       "      <th>PG</th>\n",
       "      <th>PG-13</th>\n",
       "      <th>R</th>\n",
       "      <th>yr_old</th>\n",
       "    </tr>\n",
       "  </thead>\n",
       "  <tbody>\n",
       "    <tr>\n",
       "      <th>budget</th>\n",
       "      <td>NaN</td>\n",
       "      <td>0.344858</td>\n",
       "      <td>0.195939</td>\n",
       "      <td>0.252826</td>\n",
       "      <td>0.171567</td>\n",
       "      <td>0.177970</td>\n",
       "      <td>0.322966</td>\n",
       "      <td>0.149420</td>\n",
       "    </tr>\n",
       "    <tr>\n",
       "      <th>duration</th>\n",
       "      <td>NaN</td>\n",
       "      <td>NaN</td>\n",
       "      <td>0.138879</td>\n",
       "      <td>0.165310</td>\n",
       "      <td>0.180014</td>\n",
       "      <td>0.113966</td>\n",
       "      <td>0.063111</td>\n",
       "      <td>0.016805</td>\n",
       "    </tr>\n",
       "    <tr>\n",
       "      <th>actor_1_facebook_likes</th>\n",
       "      <td>NaN</td>\n",
       "      <td>NaN</td>\n",
       "      <td>NaN</td>\n",
       "      <td>0.923668</td>\n",
       "      <td>0.002037</td>\n",
       "      <td>0.006739</td>\n",
       "      <td>0.016741</td>\n",
       "      <td>0.080940</td>\n",
       "    </tr>\n",
       "    <tr>\n",
       "      <th>cast_total_facebook_likes</th>\n",
       "      <td>NaN</td>\n",
       "      <td>NaN</td>\n",
       "      <td>NaN</td>\n",
       "      <td>NaN</td>\n",
       "      <td>0.006800</td>\n",
       "      <td>0.029891</td>\n",
       "      <td>0.003500</td>\n",
       "      <td>0.115029</td>\n",
       "    </tr>\n",
       "    <tr>\n",
       "      <th>PG</th>\n",
       "      <td>NaN</td>\n",
       "      <td>NaN</td>\n",
       "      <td>NaN</td>\n",
       "      <td>NaN</td>\n",
       "      <td>NaN</td>\n",
       "      <td>0.364015</td>\n",
       "      <td>0.342464</td>\n",
       "      <td>0.042295</td>\n",
       "    </tr>\n",
       "    <tr>\n",
       "      <th>PG-13</th>\n",
       "      <td>NaN</td>\n",
       "      <td>NaN</td>\n",
       "      <td>NaN</td>\n",
       "      <td>NaN</td>\n",
       "      <td>NaN</td>\n",
       "      <td>NaN</td>\n",
       "      <td>0.693542</td>\n",
       "      <td>0.050073</td>\n",
       "    </tr>\n",
       "    <tr>\n",
       "      <th>R</th>\n",
       "      <td>NaN</td>\n",
       "      <td>NaN</td>\n",
       "      <td>NaN</td>\n",
       "      <td>NaN</td>\n",
       "      <td>NaN</td>\n",
       "      <td>NaN</td>\n",
       "      <td>NaN</td>\n",
       "      <td>0.060458</td>\n",
       "    </tr>\n",
       "    <tr>\n",
       "      <th>yr_old</th>\n",
       "      <td>NaN</td>\n",
       "      <td>NaN</td>\n",
       "      <td>NaN</td>\n",
       "      <td>NaN</td>\n",
       "      <td>NaN</td>\n",
       "      <td>NaN</td>\n",
       "      <td>NaN</td>\n",
       "      <td>NaN</td>\n",
       "    </tr>\n",
       "  </tbody>\n",
       "</table>\n",
       "</div>"
      ],
      "text/plain": [
       "                           budget  duration  actor_1_facebook_likes  \\\n",
       "budget                        NaN  0.344858                0.195939   \n",
       "duration                      NaN       NaN                0.138879   \n",
       "actor_1_facebook_likes        NaN       NaN                     NaN   \n",
       "cast_total_facebook_likes     NaN       NaN                     NaN   \n",
       "PG                            NaN       NaN                     NaN   \n",
       "PG-13                         NaN       NaN                     NaN   \n",
       "R                             NaN       NaN                     NaN   \n",
       "yr_old                        NaN       NaN                     NaN   \n",
       "\n",
       "                           cast_total_facebook_likes        PG     PG-13  \\\n",
       "budget                                      0.252826  0.171567  0.177970   \n",
       "duration                                    0.165310  0.180014  0.113966   \n",
       "actor_1_facebook_likes                      0.923668  0.002037  0.006739   \n",
       "cast_total_facebook_likes                        NaN  0.006800  0.029891   \n",
       "PG                                               NaN       NaN  0.364015   \n",
       "PG-13                                            NaN       NaN       NaN   \n",
       "R                                                NaN       NaN       NaN   \n",
       "yr_old                                           NaN       NaN       NaN   \n",
       "\n",
       "                                  R    yr_old  \n",
       "budget                     0.322966  0.149420  \n",
       "duration                   0.063111  0.016805  \n",
       "actor_1_facebook_likes     0.016741  0.080940  \n",
       "cast_total_facebook_likes  0.003500  0.115029  \n",
       "PG                         0.342464  0.042295  \n",
       "PG-13                      0.693542  0.050073  \n",
       "R                               NaN  0.060458  \n",
       "yr_old                          NaN       NaN  "
      ]
     },
     "execution_count": 27,
     "metadata": {},
     "output_type": "execute_result"
    }
   ],
   "source": [
    "# Create correlation matrix\n",
    "corr_matrix = X_train_8.corr().abs()\n",
    "\n",
    "# Select upper triangle of correlation matrix\n",
    "upper = corr_matrix.where(np.triu(np.ones(corr_matrix.shape), k=1).astype(np.bool))\n",
    "upper"
   ]
  },
  {
   "cell_type": "code",
   "execution_count": 28,
   "metadata": {},
   "outputs": [
    {
     "data": {
      "text/plain": [
       "<matplotlib.axes._subplots.AxesSubplot at 0x1a24034550>"
      ]
     },
     "execution_count": 28,
     "metadata": {},
     "output_type": "execute_result"
    },
    {
     "data": {
      "image/png": "[encoded data removed]",
      "text/plain": [
       "<Figure size 792x648 with 2 Axes>"
      ]
     },
     "metadata": {},
     "output_type": "display_data"
    }
   ],
   "source": [
    "\n",
    "sns.set(style=\"white\")\n",
    "\n",
    "\n",
    "# Compute the correlation matrix\n",
    "corr = X_train_8.corr()\n",
    "\n",
    "# Generate a mask for the upper triangle\n",
    "mask = np.zeros_like(corr, dtype=np.bool)\n",
    "mask[np.triu_indices_from(mask)] = True\n",
    "\n",
    "# Set up the matplotlib figure\n",
    "f, ax = plt.subplots(figsize=(11, 9))\n",
    "\n",
    "# Generate a custom diverging colormap\n",
    "cmap = sns.diverging_palette(220, 10, as_cmap=True)\n",
    "\n",
    "# Draw the heatmap with the mask and correct aspect ratio\n",
    "sns.heatmap(corr, mask=mask, cmap=cmap, vmax=1, center=0,\n",
    "            square=True, linewidths=.5, cbar_kws={\"shrink\": .5})"
   ]
  },
  {
   "cell_type": "code",
   "execution_count": 29,
   "metadata": {},
   "outputs": [
    {
     "data": {
      "text/html": [
       "<div>\n",
       "<style scoped>\n",
       "    .dataframe tbody tr th:only-of-type {\n",
       "        vertical-align: middle;\n",
       "    }\n",
       "\n",
       "    .dataframe tbody tr th {\n",
       "        vertical-align: top;\n",
       "    }\n",
       "\n",
       "    .dataframe thead th {\n",
       "        text-align: right;\n",
       "    }\n",
       "</style>\n",
       "<table border=\"1\" class=\"dataframe\">\n",
       "  <thead>\n",
       "    <tr style=\"text-align: right;\">\n",
       "      <th></th>\n",
       "      <th>budget</th>\n",
       "      <th>duration</th>\n",
       "      <th>actor_1_facebook_likes</th>\n",
       "      <th>PG</th>\n",
       "      <th>PG-13</th>\n",
       "      <th>R</th>\n",
       "      <th>yr_old</th>\n",
       "    </tr>\n",
       "  </thead>\n",
       "  <tbody>\n",
       "    <tr>\n",
       "      <th>2872</th>\n",
       "      <td>13000000.0</td>\n",
       "      <td>121.0</td>\n",
       "      <td>4000.0</td>\n",
       "      <td>0</td>\n",
       "      <td>0</td>\n",
       "      <td>1</td>\n",
       "      <td>18.0</td>\n",
       "    </tr>\n",
       "    <tr>\n",
       "      <th>4059</th>\n",
       "      <td>3000000.0</td>\n",
       "      <td>110.0</td>\n",
       "      <td>1000.0</td>\n",
       "      <td>0</td>\n",
       "      <td>0</td>\n",
       "      <td>1</td>\n",
       "      <td>4.0</td>\n",
       "    </tr>\n",
       "    <tr>\n",
       "      <th>1762</th>\n",
       "      <td>21000000.0</td>\n",
       "      <td>110.0</td>\n",
       "      <td>13000.0</td>\n",
       "      <td>0</td>\n",
       "      <td>0</td>\n",
       "      <td>1</td>\n",
       "      <td>15.0</td>\n",
       "    </tr>\n",
       "    <tr>\n",
       "      <th>1739</th>\n",
       "      <td>35000000.0</td>\n",
       "      <td>122.0</td>\n",
       "      <td>2000.0</td>\n",
       "      <td>0</td>\n",
       "      <td>0</td>\n",
       "      <td>1</td>\n",
       "      <td>8.0</td>\n",
       "    </tr>\n",
       "    <tr>\n",
       "      <th>1371</th>\n",
       "      <td>37000000.0</td>\n",
       "      <td>96.0</td>\n",
       "      <td>24000.0</td>\n",
       "      <td>0</td>\n",
       "      <td>0</td>\n",
       "      <td>1</td>\n",
       "      <td>8.0</td>\n",
       "    </tr>\n",
       "    <tr>\n",
       "      <th>...</th>\n",
       "      <td>...</td>\n",
       "      <td>...</td>\n",
       "      <td>...</td>\n",
       "      <td>...</td>\n",
       "      <td>...</td>\n",
       "      <td>...</td>\n",
       "      <td>...</td>\n",
       "    </tr>\n",
       "    <tr>\n",
       "      <th>1030</th>\n",
       "      <td>50000000.0</td>\n",
       "      <td>88.0</td>\n",
       "      <td>11000.0</td>\n",
       "      <td>0</td>\n",
       "      <td>1</td>\n",
       "      <td>0</td>\n",
       "      <td>12.0</td>\n",
       "    </tr>\n",
       "    <tr>\n",
       "      <th>1236</th>\n",
       "      <td>40000000.0</td>\n",
       "      <td>139.0</td>\n",
       "      <td>708.0</td>\n",
       "      <td>0</td>\n",
       "      <td>0</td>\n",
       "      <td>1</td>\n",
       "      <td>10.0</td>\n",
       "    </tr>\n",
       "    <tr>\n",
       "      <th>899</th>\n",
       "      <td>54000000.0</td>\n",
       "      <td>121.0</td>\n",
       "      <td>117.0</td>\n",
       "      <td>0</td>\n",
       "      <td>0</td>\n",
       "      <td>1</td>\n",
       "      <td>13.0</td>\n",
       "    </tr>\n",
       "    <tr>\n",
       "      <th>168</th>\n",
       "      <td>130000000.0</td>\n",
       "      <td>122.0</td>\n",
       "      <td>17000.0</td>\n",
       "      <td>0</td>\n",
       "      <td>1</td>\n",
       "      <td>0</td>\n",
       "      <td>3.0</td>\n",
       "    </tr>\n",
       "    <tr>\n",
       "      <th>3379</th>\n",
       "      <td>53575683.2</td>\n",
       "      <td>112.0</td>\n",
       "      <td>876.0</td>\n",
       "      <td>1</td>\n",
       "      <td>0</td>\n",
       "      <td>0</td>\n",
       "      <td>10.0</td>\n",
       "    </tr>\n",
       "  </tbody>\n",
       "</table>\n",
       "<p>466 rows × 7 columns</p>\n",
       "</div>"
      ],
      "text/plain": [
       "           budget  duration  actor_1_facebook_likes  PG  PG-13  R  yr_old\n",
       "2872   13000000.0     121.0                  4000.0   0      0  1    18.0\n",
       "4059    3000000.0     110.0                  1000.0   0      0  1     4.0\n",
       "1762   21000000.0     110.0                 13000.0   0      0  1    15.0\n",
       "1739   35000000.0     122.0                  2000.0   0      0  1     8.0\n",
       "1371   37000000.0      96.0                 24000.0   0      0  1     8.0\n",
       "...           ...       ...                     ...  ..    ... ..     ...\n",
       "1030   50000000.0      88.0                 11000.0   0      1  0    12.0\n",
       "1236   40000000.0     139.0                   708.0   0      0  1    10.0\n",
       "899    54000000.0     121.0                   117.0   0      0  1    13.0\n",
       "168   130000000.0     122.0                 17000.0   0      1  0     3.0\n",
       "3379   53575683.2     112.0                   876.0   1      0  0    10.0\n",
       "\n",
       "[466 rows x 7 columns]"
      ]
     },
     "execution_count": 29,
     "metadata": {},
     "output_type": "execute_result"
    }
   ],
   "source": [
    "# Find index of feature columns with correlation greater than 0.90\n",
    "to_drop = [column for column in upper.columns if any(upper[column] > 0.90)]\n",
    "\n",
    "#if you change inplace to True it will go through and drop all of those columns from the dataset\n",
    "X_train_8.drop(columns=to_drop, inplace=False)\n",
    "X_test_8.drop(columns=to_drop, inplace=False)\n"
   ]
  },
  {
   "cell_type": "code",
   "execution_count": 30,
   "metadata": {},
   "outputs": [
    {
     "data": {
      "text/plain": [
       "['cast_total_facebook_likes']"
      ]
     },
     "execution_count": 30,
     "metadata": {},
     "output_type": "execute_result"
    }
   ],
   "source": [
    "to_drop"
   ]
  },
  {
   "cell_type": "markdown",
   "metadata": {},
   "source": [
    "## Variance Inflation Factor (VIF) \n",
    "\n",
    "VIFis a measure of colinearity among predictor variables within a multiple regression. The variance inflation factor for the estimated regression coefficient $b_j$ — denoted $VIF_j$ —is just the factor by which the variance of $b_j$ is \"inflated\" by the existence of correlation among the predictor variables in the model.In particular, the variance inflation factor for the jth predictor is:\n",
    "\n",
    "$$VIF_j=\\frac{1}{1-R_{j}^{2}}$$\n",
    "\n",
    "\n",
    "where $R^2_j$  is the $R^2$-value obtained by regressing the jth predictor on the remaining predictors. \n",
    "\n",
    "\n",
    "Inspect the factors for each predictor variable, if the VIF is between 5-10, multicolinearity is likely present and you should consider dropping the variable.\n",
    "\n",
    "https://online.stat.psu.edu/stat462/node/180/"
   ]
  },
  {
   "cell_type": "code",
   "execution_count": 31,
   "metadata": {},
   "outputs": [],
   "source": [
    "from statsmodels.stats.outliers_influence import variance_inflation_factor\n"
   ]
  },
  {
   "cell_type": "code",
   "execution_count": 32,
   "metadata": {},
   "outputs": [
    {
     "name": "stderr",
     "output_type": "stream",
     "text": [
      "/Users/Khyatee/anaconda3/envs/learn-env/lib/python3.6/site-packages/statsmodels/stats/outliers_influence.py:193: RuntimeWarning: divide by zero encountered in double_scalars\n",
      "  vif = 1. / (1. - r_squared_i)\n"
     ]
    },
    {
     "data": {
      "text/plain": [
       "[13735.78535276862,\n",
       " 20012.08730666791,\n",
       " 804130.1622986804,\n",
       " 1199575.0072805602,\n",
       " inf,\n",
       " inf,\n",
       " inf,\n",
       " 14527.094731498495]"
      ]
     },
     "execution_count": 32,
     "metadata": {},
     "output_type": "execute_result"
    }
   ],
   "source": [
    "[variance_inflation_factor(X_train.values, i) for i in range(X_train_8.shape[1])]"
   ]
  },
  {
   "cell_type": "code",
   "execution_count": 33,
   "metadata": {},
   "outputs": [
    {
     "data": {
      "text/html": [
       "<div>\n",
       "<style scoped>\n",
       "    .dataframe tbody tr th:only-of-type {\n",
       "        vertical-align: middle;\n",
       "    }\n",
       "\n",
       "    .dataframe tbody tr th {\n",
       "        vertical-align: top;\n",
       "    }\n",
       "\n",
       "    .dataframe thead th {\n",
       "        text-align: right;\n",
       "    }\n",
       "</style>\n",
       "<table border=\"1\" class=\"dataframe\">\n",
       "  <thead>\n",
       "    <tr style=\"text-align: right;\">\n",
       "      <th></th>\n",
       "      <th>VIF Factor</th>\n",
       "      <th>features</th>\n",
       "    </tr>\n",
       "  </thead>\n",
       "  <tbody>\n",
       "    <tr>\n",
       "      <th>0</th>\n",
       "      <td>3.1</td>\n",
       "      <td>budget</td>\n",
       "    </tr>\n",
       "    <tr>\n",
       "      <th>1</th>\n",
       "      <td>28.1</td>\n",
       "      <td>duration</td>\n",
       "    </tr>\n",
       "    <tr>\n",
       "      <th>2</th>\n",
       "      <td>10.7</td>\n",
       "      <td>actor_1_facebook_likes</td>\n",
       "    </tr>\n",
       "    <tr>\n",
       "      <th>3</th>\n",
       "      <td>11.6</td>\n",
       "      <td>cast_total_facebook_likes</td>\n",
       "    </tr>\n",
       "    <tr>\n",
       "      <th>4</th>\n",
       "      <td>3.9</td>\n",
       "      <td>PG</td>\n",
       "    </tr>\n",
       "    <tr>\n",
       "      <th>5</th>\n",
       "      <td>10.6</td>\n",
       "      <td>PG-13</td>\n",
       "    </tr>\n",
       "    <tr>\n",
       "      <th>6</th>\n",
       "      <td>10.6</td>\n",
       "      <td>R</td>\n",
       "    </tr>\n",
       "    <tr>\n",
       "      <th>7</th>\n",
       "      <td>4.0</td>\n",
       "      <td>yr_old</td>\n",
       "    </tr>\n",
       "  </tbody>\n",
       "</table>\n",
       "</div>"
      ],
      "text/plain": [
       "   VIF Factor                   features\n",
       "0         3.1                     budget\n",
       "1        28.1                   duration\n",
       "2        10.7     actor_1_facebook_likes\n",
       "3        11.6  cast_total_facebook_likes\n",
       "4         3.9                         PG\n",
       "5        10.6                      PG-13\n",
       "6        10.6                          R\n",
       "7         4.0                     yr_old"
      ]
     },
     "execution_count": 33,
     "metadata": {},
     "output_type": "execute_result"
    }
   ],
   "source": [
    "vif = pd.DataFrame()\n",
    "vif[\"VIF Factor\"] = [variance_inflation_factor(df_features.values, i) for i in range(df_features.shape[1])]\n",
    "vif[\"features\"] = df_features.columns\n",
    "vif.round(1)"
   ]
  },
  {
   "cell_type": "code",
   "execution_count": null,
   "metadata": {},
   "outputs": [],
   "source": [
    "df_features.corrwith(target).abs()\n"
   ]
  },
  {
   "cell_type": "markdown",
   "metadata": {},
   "source": [
    "## Select the Best features based on some statistical measure\n",
    "\n",
    "Scikit-learn provides the Select K best features using F-Test.\n",
    "\n",
    "https://scikit-learn.org/stable/modules/generated/sklearn.feature_selection.SelectKBest.html#sklearn.feature_selection.SelectKBest"
   ]
  },
  {
   "cell_type": "markdown",
   "metadata": {},
   "source": [
    "###  F Test\n",
    "\n",
    "F Test is a statistical test used to compare between models and check if the difference is significant between the model.\n",
    "\n",
    "F-Test does a hypothesis testing model X and Y where X is a model created by just a constant and Y is the model created by a constant and a feature.\n",
    "\n",
    "The least square errors in both the models are compared and checks if the difference in errors between model X and Y are significant or introduced by chance.\n",
    "\n",
    "F-Test is useful in feature selection as we get to know the significance of each feature in improving the model.\n",
    "\n"
   ]
  },
  {
   "cell_type": "markdown",
   "metadata": {},
   "source": [
    "***I am using the F-test to select the 20 top varaibles for this model***"
   ]
  },
  {
   "cell_type": "code",
   "execution_count": null,
   "metadata": {},
   "outputs": [],
   "source": [
    "X_train.shape"
   ]
  },
  {
   "cell_type": "code",
   "execution_count": null,
   "metadata": {},
   "outputs": [],
   "source": [
    "from sklearn.feature_selection import SelectKBest, f_regression,mutual_info_regression\n",
    "\n",
    "selector = SelectKBest(f_regression, k=20)\n",
    "\n",
    "selector.fit(X_train, y_train)"
   ]
  },
  {
   "cell_type": "code",
   "execution_count": null,
   "metadata": {},
   "outputs": [],
   "source": [
    "selected_columns = X_train.columns[selector.get_support()]\n",
    "removed_columns = X_train.columns[~selector.get_support()]\n",
    "# X_train = X_train[selected_columns]\n",
    "# X_test = X_test[selected_columns]"
   ]
  },
  {
   "cell_type": "code",
   "execution_count": null,
   "metadata": {},
   "outputs": [],
   "source": [
    "list(removed_columns)"
   ]
  },
  {
   "cell_type": "code",
   "execution_count": null,
   "metadata": {},
   "outputs": [],
   "source": [
    "list(selected_columns)"
   ]
  },
  {
   "cell_type": "code",
   "execution_count": null,
   "metadata": {},
   "outputs": [],
   "source": [
    "#instantiate a linear regression object\n",
    "lm_kbest = LinearRegression()\n",
    "\n",
    "#fit the linear regression to the data\n",
    "lm_kbest = lm_kbest.fit(X_train[selected_columns], y_train)\n",
    "\n",
    "y_train_kbest = lm_kbest.predict(X_train[selected_columns])\n",
    "\n",
    "\n",
    "trainK_rmse = np.sqrt(metrics.mean_squared_error(y_train, y_train_kbest))\n",
    "\n",
    "\n",
    "print('Training Root Mean Squared Error:' , trainK_rmse)\n",
    "\n",
    "y_kbest = lm_kbest.predict(X_test[selected_columns])\n",
    "\n",
    "testK_rmse = np.sqrt(metrics.mean_squared_error(y_test, y_kbest))\n",
    "\n",
    "print('Testing Root Mean Squared Error:' , testK_rmse)\n",
    "\n",
    "\n"
   ]
  },
  {
   "cell_type": "code",
   "execution_count": null,
   "metadata": {},
   "outputs": [],
   "source": [
    "print('Original: ', test_rmse, '\\n',\n",
    "      \"KBest:   \", testK_rmse,'\\n')"
   ]
  },
  {
   "cell_type": "markdown",
   "metadata": {
    "slideshow": {
     "slide_type": "slide"
    }
   },
   "source": [
    "# Wrapper Methods\n",
    "\n",
    "Wrapper methods consider the selection of a set of features as a search problem, where different combinations are prepared, evaluated and compared to other combinations. A predictive model is used to evaluate a combination of features and assign a score based on model accuracy.\n",
    "\n",
    "The search process may be methodical such as a best-first search, it may stochastic such as a random hill-climbing algorithm, or it may use heuristics, like forward and backward passes to add and remove features.\n",
    "\n",
    "Wrapper Methods promises you a best set of features with a extensive greedy search.\n",
    "\n",
    "But the main drawbacks of wrapper methods is the sheer amount of models that needs to be trained. It is computationally very expensive and is infeasible with large number of features.\n",
    "\n"
   ]
  },
  {
   "cell_type": "markdown",
   "metadata": {},
   "source": [
    "![alt text](./resources/Wrapper_1.webp)"
   ]
  },
  {
   "cell_type": "markdown",
   "metadata": {},
   "source": [
    "### Recursive Feature Elimination\n",
    "\n",
    "An example if a wrapper method is the recursive feature elimination algorithm.\n",
    "\n",
    "As the name suggests, this method eliminates worst performing features on a particular model one after the other until the best subset of features are known.\n",
    "\n",
    "\n",
    "Recursive elimination eliminates the least explaining features one after the other.\n",
    "For data with n features,\n",
    "\n",
    "- On first round ‘n-1’ models are created with combination of all features except one. The least performing feature is removed\n",
    "\n",
    "- On second round ‘n-2’ models are created by removing another feature.\n",
    "\n"
   ]
  },
  {
   "cell_type": "markdown",
   "metadata": {},
   "source": [
    "<img src='./resources/rfe_graph.png' width=500/>"
   ]
  },
  {
   "cell_type": "code",
   "execution_count": null,
   "metadata": {},
   "outputs": [],
   "source": [
    "from sklearn.feature_selection import RFECV"
   ]
  },
  {
   "cell_type": "code",
   "execution_count": null,
   "metadata": {},
   "outputs": [],
   "source": [
    "ols = linear_model.LinearRegression()"
   ]
  },
  {
   "cell_type": "code",
   "execution_count": null,
   "metadata": {},
   "outputs": [],
   "source": [
    "# Create recursive feature eliminator that scores features by mean squared errors\n",
    "selector = RFECV(estimator=ols, step=1, cv=5, scoring='neg_mean_squared_error', n_jobs=-1)\n",
    "\n",
    "# Fit recursive feature eliminator \n",
    "selector.fit(X_train, y_train)\n",
    "\n"
   ]
  },
  {
   "cell_type": "code",
   "execution_count": null,
   "metadata": {},
   "outputs": [],
   "source": [
    "selected_rfe = X_train.columns[selector.support_]\n",
    "removed_rfe = X_train.columns[~selector.support_]\n"
   ]
  },
  {
   "cell_type": "code",
   "execution_count": null,
   "metadata": {},
   "outputs": [],
   "source": [
    "list(removed_rfe)"
   ]
  },
  {
   "cell_type": "code",
   "execution_count": null,
   "metadata": {},
   "outputs": [],
   "source": [
    "len(list(selected_rfe))"
   ]
  },
  {
   "cell_type": "code",
   "execution_count": null,
   "metadata": {},
   "outputs": [],
   "source": [
    "#instantiate a linear regression object\n",
    "lm_rfe = LinearRegression()\n",
    "\n",
    "#fit the linear regression to the data\n",
    "lm_rfe = lm_rfe.fit(X_train[selected_rfe], y_train)\n",
    "\n",
    "y_rfe = lm_rfe.predict(X_train[selected_rfe])\n",
    "\n",
    "\n",
    "trainRFE_rmse = np.sqrt(metrics.mean_squared_error(y_train, y_rfe))\n",
    "\n",
    "\n",
    "print('Training Root Mean Squared Error:' , trainRFE_rmse)\n",
    "\n",
    "y_pred_rfe = lm_rfe.predict(X_test[selected_rfe])\n",
    "\n",
    "testRFE_rmse = np.sqrt(metrics.mean_squared_error(y_test, y_pred_rfe))\n",
    "\n",
    "print('Testing Root Mean Squared Error:' , testRFE_rmse)\n",
    "\n",
    "\n"
   ]
  },
  {
   "cell_type": "code",
   "execution_count": null,
   "metadata": {},
   "outputs": [],
   "source": [
    "print('Original: ', test_rmse, '\\n',\n",
    "      \"KBest:   \", testK_rmse,'\\n',\n",
    "      \"RFE:     \", testRFE_rmse)"
   ]
  },
  {
   "cell_type": "markdown",
   "metadata": {
    "slideshow": {
     "slide_type": "slide"
    }
   },
   "source": [
    "# Embedded Methods\n",
    "\n",
    "Embedded methods learn which features best contribute to the accuracy of the model while the model is being created. The most common type of embedded feature selection methods are regularization methods.\n",
    "\n",
    "Regularization methods are also called penalization methods that introduce additional constraints into the optimization of a predictive algorithm (such as a regression algorithm) that bias the model toward lower complexity (fewer coefficients).\n",
    "\n",
    "Examples of regularization algorithms are the LASSO, Elastic Net and Ridge Regression."
   ]
  },
  {
   "cell_type": "markdown",
   "metadata": {},
   "source": [
    "![alt text](./resources/Embedded_1.webp)"
   ]
  },
  {
   "cell_type": "code",
   "execution_count": null,
   "metadata": {},
   "outputs": [],
   "source": [
    "\n",
    "X_train.head()"
   ]
  },
  {
   "cell_type": "markdown",
   "metadata": {},
   "source": [
    "***Plot to compare the size of all of our coefficients form our final model created by RFE***"
   ]
  },
  {
   "cell_type": "code",
   "execution_count": null,
   "metadata": {
    "scrolled": true
   },
   "outputs": [],
   "source": [
    "coef = pd.DataFrame(data=lm_rfe.coef_ ).T\n",
    "coef.columns = selected_rfe\n",
    "\n",
    "model_coef = coef.T.sort_values(by=0).T\n",
    "model_coef.plot(kind='bar', title='Modal Coefficients', legend=False, figsize=(16,8),)"
   ]
  },
  {
   "cell_type": "code",
   "execution_count": null,
   "metadata": {},
   "outputs": [],
   "source": [
    "## training the model\n",
    "from sklearn.linear_model import Lasso\n",
    "\n",
    "lasso = Lasso(alpha=0.1, normalize=False)\n",
    "\n",
    "lasso.fit(X_train,y_train)\n",
    "\n",
    "y_train_pred = lasso.predict(X_train)\n",
    "y_pred = lasso.predict(X_test)\n",
    "\n",
    "train_rmse_lasso01 = metrics.mean_absolute_error(y_train, y_train_lasso01)\n",
    "test_rmse_lasso01 = np.sqrt(metrics.mean_squared_error(y_test, y_test_lasso01))\n",
    "print('Training Error: '+ str(train_rmse_lasso01) )\n",
    "print('Testing Error: '+ str(test_rmse_lasso01) )\n",
    "\n",
    "\n"
   ]
  },
  {
   "cell_type": "code",
   "execution_count": null,
   "metadata": {},
   "outputs": [],
   "source": [
    "lasso_coef01 = pd.DataFrame(data=lasso.coef_).T\n",
    "lasso_coef01.columns = X_train.columns\n",
    "lasso_coef01 = lasso_coef01.T.sort_values(by=0).T\n",
    "lasso_coef01.plot(kind='bar', title='Modal Coefficients', legend=False, figsize=(16,8))"
   ]
  },
  {
   "cell_type": "code",
   "execution_count": null,
   "metadata": {},
   "outputs": [],
   "source": [
    "coeff_df = lasso_coef01.T\n",
    "\n",
    "coeff_df[coeff_df[0]==0].count()"
   ]
  },
  {
   "cell_type": "code",
   "execution_count": null,
   "metadata": {},
   "outputs": [],
   "source": [
    "coeff_df[coeff_df[0]==0]"
   ]
  },
  {
   "cell_type": "code",
   "execution_count": null,
   "metadata": {},
   "outputs": [],
   "source": [
    "print('Original: \\t', test_rmse, '\\n',\n",
    "      \"KBest: \\t\", testK_rmse, '\\n',\n",
    "      \"RFE: \\t \\t\", testRFE_rmse, '\\n', \n",
    "      \"Lasso 0.01: \\t\",  test_rmse_l01, '\\n')"
   ]
  },
  {
   "cell_type": "markdown",
   "metadata": {},
   "source": [
    "## Application: when do we use which method?\n",
    "\n",
    "Lasso probably appears to be the easiest method to use to select the features of your model. So why would you bother with any of the other methods?  \n",
    "\n",
    "A Lasso algorithm is only for linear models, and you might rather use a different machine learning algorithm like K-Nearest Neighbors. Therefore, a filter or wrapper method could be used to perform your feature selection.\n",
    "\n",
    "You might start off with hundreds or thousands of features that you want to select from. This could take a while to run a wrapper or embedded method, so you can use a filter method first to reduce your model size and have it run more quickly.  \n",
    "\n",
    "Finally you can also combine these methods together. So you might start with a filter method to remove some of the features that are obviously non-impactful to our target variable, then run a wrapper or embedded method to finish the process. "
   ]
  },
  {
   "cell_type": "markdown",
   "metadata": {},
   "source": [
    "## Final Model:\n",
    "\n",
    "During this whole process we were only using a percentage of our data to train the model so that we can do test train split.  \n",
    "\n",
    "Now we have identified the process that generate the model that performs the best, we want to go back and fit it to all available data to get a final model.  \n",
    "\n"
   ]
  },
  {
   "cell_type": "code",
   "execution_count": null,
   "metadata": {},
   "outputs": [],
   "source": [
    "scaler = StandardScaler()\n",
    "\n",
    "#fit and transform the  data\n",
    "df_poly3 = pd.DataFrame(data=scaler.fit_transform(df_poly3), columns=df_poly3.columns)"
   ]
  },
  {
   "cell_type": "code",
   "execution_count": null,
   "metadata": {},
   "outputs": [],
   "source": [
    "selector = SelectKBest(f_regression, k=20)\n",
    "\n",
    "selector.fit(df_poly3, target)"
   ]
  },
  {
   "cell_type": "code",
   "execution_count": null,
   "metadata": {},
   "outputs": [],
   "source": [
    "selected_columns = X_train.columns[selector.get_support()]\n",
    "removed_columns = X_train.columns[~selector.get_support()]"
   ]
  },
  {
   "cell_type": "code",
   "execution_count": null,
   "metadata": {},
   "outputs": [],
   "source": [
    "#instantiate a linear regression object\n",
    "lm_final = LinearRegression()\n",
    "\n",
    "#fit the linear regression to the data\n",
    "lm_final = lm_final.fit(df_poly3[selected_columns], target)"
   ]
  },
  {
   "cell_type": "code",
   "execution_count": null,
   "metadata": {},
   "outputs": [],
   "source": [
    "lm_final.coef_"
   ]
  },
  {
   "cell_type": "markdown",
   "metadata": {},
   "source": [
    "Now that we have that final model, we want to save it to use again."
   ]
  },
  {
   "cell_type": "code",
   "execution_count": null,
   "metadata": {},
   "outputs": [],
   "source": [
    "import pickle\n",
    "\n",
    "\n",
    "pickle_out = open(\"model.pickle\",\"wb\")\n",
    "pickle.dump(lm_final, pickle_out)\n",
    "pickle_out.close()"
   ]
  }
 ],
 "metadata": {
  "kernelspec": {
   "display_name": "Python 3",
   "language": "python",
   "name": "python3"
  },
  "language_info": {
   "codemirror_mode": {
    "name": "ipython",
    "version": 3
   },
   "file_extension": ".py",
   "mimetype": "text/x-python",
   "name": "python",
   "nbconvert_exporter": "python",
   "pygments_lexer": "ipython3",
   "version": "3.6.9"
  }
 },
 "nbformat": 4,
 "nbformat_minor": 2
}
